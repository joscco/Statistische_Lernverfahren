{
 "cells": [
  {
   "cell_type": "code",
   "execution_count": 13,
   "metadata": {
    "scrolled": false
   },
   "outputs": [
    {
     "name": "stdout",
     "output_type": "stream",
     "text": [
      "['...', '0', 'ablauf', 'abschluss', 'absolut', 'abwicklung', 'anfang', 'anfrage', 'anfragen', 'angebot', 'angebote', 'anliegen', 'ansprechpartner', 'aufwand', 'ausschreibung', 'auszahlung', 'bank', 'banken', 'beantwortet', 'bearbeitet', 'bearbeitung', 'bedarf', 'begleitet', 'begleitung', 'bekommen', 'bemüht', 'beraten', 'berater', 'beratung', 'bestens', 'betreut', 'betreuung', 'danke', 'darlehen', 'direkt', 'einfach', 'einfache', 'empfehlen', 'empfehlenswert', 'empfehlung', 'engagiert', 'engagierte', 'erfahrung', 'erfahrungen', 'erfolg', 'erfolgreich', 'ergebnis', 'erreichbar', 'erreichbarkeit', 'fall', 'finanzierung', 'finanzierungspartnern', 'finden', 'firma', 'fragen', 'frau', 'freundlich', 'freundliche', 'geben', 'gedauert', 'gefunden', 'geholfen', 'geklappt', 'genau', 'gerne', 'gespräch', 'guten', 'hausbank', 'herr', 'herrn', 'hervorragend', 'hervorragende', 'hilfe', 'hilfsbereit', 'innerhalb', 'insbesondere', 'jederzeit', 'klasse', 'kommunikation', 'kompetent', 'kompetente', 'kompetenten', 'kompetenter', 'konditionen', 'kontakt', 'kredit', 'kunden', 'kurze', 'kurzer', 'kürzester', 'lage', 'lösung', 'lösungen', 'lösungsorientiert', 'mal', 'mitarbeiter', 'nachname', 'nette', 'nächsten', 'partner', 'passende', 'perfekt', 'persönliche', 'persönlichen', 'persönlicher', 'plattform', 'portal', 'positiv', 'positive', 'problemlos', 'professionell', 'professionelle', 'prozess', 'reibungslos', 'relativ', 'sagen', 'schnell', 'schnelle', 'schneller', 'seite', 'service', 'situation', 'sofort', 'stand', 'sterne', 'stets', 'suche', 'super', 'team', 'telefon', 'tolle', 'toller', 'top', 'trotz', 'unbürokratische', 'unkompliziert', 'unkomplizierte', 'unserem', 'unseren', 'unseres', 'unterlagen', 'unternehmen', 'unterstützung', 'vergleich', 'vermittelt', 'vermittlung', 'vorliegen', 'vorname', 'weiterempfehlen', 'woche', 'wochen', 'zielführend', 'zufrieden', 'zusammenarbeit', 'zuverlässig', 'zügig', 'äußerst', 'überrascht']\n",
      "Naive Bayes Genauigkeit: 0.45348837209302323\n"
     ]
    },
    {
     "data": {
      "image/png": "[encoded data removed]",
      "text/plain": [
       "<matplotlib.figure.Figure at 0x25430b9d908>"
      ]
     },
     "metadata": {},
     "output_type": "display_data"
    },
    {
     "name": "stdout",
     "output_type": "stream",
     "text": [
      "Random Forests Genauigkeit: 0.43023255813953487\n"
     ]
    },
    {
     "data": {
      "image/png": "[encoded data removed]",
      "text/plain": [
       "<matplotlib.figure.Figure at 0x25430b98588>"
      ]
     },
     "metadata": {},
     "output_type": "display_data"
    }
   ],
   "source": [
    "# Pakete importieren\n",
    "import pandas as pd\n",
    "import numpy as np\n",
    "\n",
    "import spacy # Zur Tokenisierung und Lemmatisierung\n",
    "from spacy.lang.de.stop_words import STOP_WORDS\n",
    "from spacy.lang.de import German\n",
    "\n",
    "import string # Um Punktierungen herauszufiltern\n",
    "\n",
    "# Sklearn hat alle Methoden, die wir brauchen, um die DTM aufzustellen\n",
    "from sklearn.feature_extraction.text import CountVectorizer\n",
    "from sklearn.model_selection import train_test_split\n",
    "\n",
    "# Auch die Algorithmen sind in Sklearn implementiert\n",
    "from sklearn.naive_bayes import MultinomialNB\n",
    "from sklearn.ensemble import RandomForestClassifier\n",
    "\n",
    "# Metrics hat eine Methode, um Konfusionsmatrizen zu erzeugen\n",
    "from sklearn import metrics\n",
    "\n",
    "# Daten einlesen\n",
    "reviews = pd.read_csv(\"reviews.csv\", header=0, sep=\",\" )\n",
    "\n",
    "# Liste der Punktierungen und Stopwörter erzeugen\n",
    "punctuations = string.punctuation\n",
    "nlp = spacy.load('de_core_news_sm')\n",
    "stop_words = STOP_WORDS\n",
    "\n",
    "# Wir laden einen Parser, der deutsche Sätze interpretieren kann\n",
    "parser = German()\n",
    "\n",
    "# Wir wollen unsere csv-Datei tokenizen und danach die einzelnen Tokens lemmatizen und aussortieren\n",
    "def spacy_tokenizer(doc):\n",
    "    # Erstellen der Tokens mit Wortinformationen\n",
    "    mytokens = parser(doc)\n",
    "\n",
    "    # Lemmatisierung aller Tokens und ersetzen durch Kleinschreibung\n",
    "    mytokens = [ word.lemma_.lower().strip() if word.lemma_ != \"-PRON-\" else word.lower_ for word in mytokens ]\n",
    "\n",
    "    # Entfernen der Stopwörter und Interpunktionen\n",
    "    mytokens = [ word for word in mytokens if word not in stop_words and word not in punctuations ]\n",
    "    \n",
    "    # Zahlen werden auf 0 gesetzt\n",
    "    mytokens = [ word if not word.isdigit() else '0' for word in mytokens ]\n",
    "\n",
    "    # Rückgabe der Tokens\n",
    "    return mytokens\n",
    "\n",
    "# Tokenizen und Erstellen der DTM\n",
    "cv = CountVectorizer(min_df = 0.01 , ngram_range = (1,1), tokenizer = spacy_tokenizer)\n",
    "text_counts = cv.fit_transform(reviews['text'])\n",
    "tokens = cv.get_feature_names()\n",
    "\n",
    "# print(text_counts)\n",
    "print(tokens)\n",
    "\n",
    "# Aufstellen der Datenvektoren\n",
    "# Seed wurde in R festgelegt, wird hier also nur eingelesen\n",
    "# X_train, X_test, y_train, y_test = train_test_split(text_counts, reviews['type'], test_size=0.2, random_state = 42)\n",
    "ind = pd.read_csv('id_auswahl.csv', sep = ',', header=0).to_numpy()[:,1] - 1\n",
    "ind_inv = [x for x in range(439) if x not in ind]\n",
    "X_train, X_test, y_train, y_test = text_counts[ind], text_counts[ind_inv], reviews['type'][ind], reviews['type'][ind_inv]\n",
    "\n",
    "# Wir erstellen ein Modell mit Naive Bayes\n",
    "clf = MultinomialNB().fit(X_train, y_train)\n",
    "predicted = clf.predict(X_test)\n",
    "print(\"Naive Bayes Genauigkeit:\", metrics.accuracy_score(y_test, predicted))\n",
    "\n",
    "# Plotten der Konfusionsmatrizen\n",
    "import seaborn as sn\n",
    "import matplotlib.pyplot as plt\n",
    "\n",
    "cm = metrics.confusion_matrix(y_test, predicted, labels=[\"Dominant\", \"Gewissenhaft\", \"Initiativ\", \"Stetig\"])\n",
    "df_cm = pd.DataFrame(cm, index = [i for i in [\"Dominant_a\", \"Gewissenhaft_a\", \"Initiativ_a\", \"Stetig_a\"]],\n",
    "                  columns = [i for i in [\"Dominant_p\", \"Gewissenhaft_p\", \"Initiativ_p\", \"Stetig_p\"]])\n",
    "sn.heatmap(df_cm, annot=True)\n",
    "plt.show()\n",
    "\n",
    "#  Mit einer Genauigkeit von 41.6% sehen wir, dass Naive Bayes ein grottiger Ansatz ist.\n",
    "# Wir erstellen ein Modell mit 10 Decision Trees\n",
    "rf = RandomForestClassifier( n_estimators = 1000, random_state = 1 )\n",
    "rf.fit(X_train, y_train);\n",
    "predictions = rf.predict(X_test)\n",
    "print(\"Random Forests Genauigkeit:\", metrics.accuracy_score(y_test, predictions))\n",
    "\n",
    "# Vorhersagen via Random Forests\n",
    "\n",
    "\n",
    "# Plotten der Konfusionsmatrizen\n",
    "cm = metrics.confusion_matrix(y_test, predictions, labels=[\"Dominant\",  \"Gewissenhaft\", \"Initiativ\", \"Stetig\"])\n",
    "df_cm = pd.DataFrame(cm, index = [i for i in [\"Dominant\", \"Gewissenhaft\", \"Initiativ\", \"Stetig\"]],\n",
    "                  columns = [i for i in [\"Dominant\", \"Gewissenhaft\", \"Initiativ\", \"Stetig\"]])\n",
    "sn.heatmap(df_cm, annot=True)\n",
    "plt.show()\n"
   ]
  },
  {
   "cell_type": "code",
   "execution_count": null,
   "metadata": {
    "collapsed": true
   },
   "outputs": [],
   "source": []
  },
  {
   "cell_type": "code",
   "execution_count": null,
   "metadata": {
    "collapsed": true
   },
   "outputs": [],
   "source": []
  },
  {
   "cell_type": "code",
   "execution_count": null,
   "metadata": {
    "collapsed": true
   },
   "outputs": [],
   "source": []
  },
  {
   "cell_type": "code",
   "execution_count": null,
   "metadata": {
    "collapsed": true
   },
   "outputs": [],
   "source": []
  },
  {
   "cell_type": "code",
   "execution_count": null,
   "metadata": {
    "collapsed": true
   },
   "outputs": [],
   "source": []
  }
 ],
 "metadata": {
  "kernelspec": {
   "display_name": "Python 3",
   "language": "python",
   "name": "python3"
  },
  "language_info": {
   "codemirror_mode": {
    "name": "ipython",
    "version": 3
   },
   "file_extension": ".py",
   "mimetype": "text/x-python",
   "name": "python",
   "nbconvert_exporter": "python",
   "pygments_lexer": "ipython3",
   "version": "3.6.3"
  }
 },
 "nbformat": 4,
 "nbformat_minor": 2
}
