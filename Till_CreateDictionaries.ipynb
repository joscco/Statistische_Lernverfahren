{
 "cells": [
  {
   "cell_type": "code",
   "execution_count": 1,
   "metadata": {},
   "outputs": [],
   "source": [
    "import pandas as pd"
   ]
  },
  {
   "cell_type": "code",
   "execution_count": 2,
   "metadata": {},
   "outputs": [],
   "source": [
    "reviews2 = pd.read_csv('reviews2_new.csv').assign(Anz=1)\n",
    "reviews2['Lemma'] = reviews2['Lemma'].mask(reviews2['Wortart'] == 'PUNCT', reviews2['Wortart'])"
   ]
  },
  {
   "cell_type": "code",
   "execution_count": 3,
   "metadata": {},
   "outputs": [],
   "source": [
    "anz_word = pd.DataFrame(reviews2.groupby(['ID'])['Anz'].sum())\n",
    "anz_word.rename(columns = {'Anz': 'AnzWort'})\n",
    "anz_word.to_csv('Anzahl_Woerter.csv')"
   ]
  },
  {
   "cell_type": "code",
   "execution_count": 4,
   "metadata": {},
   "outputs": [],
   "source": [
    "dict1 = pd.DataFrame(reviews2.groupby(['Lemma'])['Anz'].sum())\n",
    "dict1.to_csv('Dict_Lemma.csv')"
   ]
  },
  {
   "cell_type": "code",
   "execution_count": 5,
   "metadata": {},
   "outputs": [],
   "source": [
    "dict2 = pd.DataFrame(reviews2.groupby(['Wortart'])['Anz'].sum())\n",
    "dict2.to_csv('Dict_Pos.csv')"
   ]
  },
  {
   "cell_type": "code",
   "execution_count": 6,
   "metadata": {},
   "outputs": [],
   "source": [
    "dict3 = pd.DataFrame(reviews2.groupby(['Tag'])['Anz'].sum())\n",
    "dict3.to_csv('Dict_Tag.csv')"
   ]
  }
 ],
 "metadata": {
  "kernelspec": {
   "display_name": "Python 3",
   "language": "python",
   "name": "python3"
  },
  "language_info": {
   "codemirror_mode": {
    "name": "ipython",
    "version": 3
   },
   "file_extension": ".py",
   "mimetype": "text/x-python",
   "name": "python",
   "nbconvert_exporter": "python",
   "pygments_lexer": "ipython3",
   "version": "3.7.4"
  }
 },
 "nbformat": 4,
 "nbformat_minor": 2
}
